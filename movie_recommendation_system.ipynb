{
 "cells": [
  {
   "metadata": {},
   "cell_type": "markdown",
   "source": [
    "# Movie Recommendation\n",
    "\n",
    "The aim of this project is to create a system that will recommend a movie based off of a genre that a user submits. Then the user should be able to select a movie and get recommendations based off of that movie."
   ],
   "id": "8a77807f92f26ee"
  },
  {
   "metadata": {},
   "cell_type": "markdown",
   "source": "## 1. Import Libraries and Load Dataset",
   "id": "3f17db1ac3635bb4"
  },
  {
   "metadata": {
    "ExecuteTime": {
     "end_time": "2025-04-05T18:55:10.644856Z",
     "start_time": "2025-04-05T18:55:10.583659Z"
    }
   },
   "cell_type": "code",
   "source": [
    "# Import required libraries\n",
    "import pandas as pd\n",
    "import os\n",
    "import ast\n",
    "from sklearn.feature_extraction.text import TfidfVectorizer\n",
    "from sklearn.metrics.pairwise import linear_kernel\n",
    "\n",
    "# load the dataset\n",
    "movies_path = os.path.join(\"data\", \"movies_metadata.csv\")\n",
    "df = pd.read_csv(movies_path, low_memory=False)\n",
    "\n",
    "# Check basic Information\n",
    "df[['title', 'overview', 'genres', 'popularity']].head()\n"
   ],
   "id": "fbc121e30a2defb3",
   "outputs": [
    {
     "data": {
      "text/plain": [
       "                                      title  \\\n",
       "0                                    Avatar   \n",
       "1  Pirates of the Caribbean: At World's End   \n",
       "2                                   Spectre   \n",
       "3                     The Dark Knight Rises   \n",
       "4                               John Carter   \n",
       "\n",
       "                                            overview  \\\n",
       "0  In the 22nd century, a paraplegic Marine is di...   \n",
       "1  Captain Barbossa, long believed to be dead, ha...   \n",
       "2  A cryptic message from Bond’s past sends him o...   \n",
       "3  Following the death of District Attorney Harve...   \n",
       "4  John Carter is a war-weary, former military ca...   \n",
       "\n",
       "                                              genres  popularity  \n",
       "0  [{\"id\": 28, \"name\": \"Action\"}, {\"id\": 12, \"nam...  150.437577  \n",
       "1  [{\"id\": 12, \"name\": \"Adventure\"}, {\"id\": 14, \"...  139.082615  \n",
       "2  [{\"id\": 28, \"name\": \"Action\"}, {\"id\": 12, \"nam...  107.376788  \n",
       "3  [{\"id\": 28, \"name\": \"Action\"}, {\"id\": 80, \"nam...  112.312950  \n",
       "4  [{\"id\": 28, \"name\": \"Action\"}, {\"id\": 12, \"nam...   43.926995  "
      ],
      "text/html": [
       "<div>\n",
       "<style scoped>\n",
       "    .dataframe tbody tr th:only-of-type {\n",
       "        vertical-align: middle;\n",
       "    }\n",
       "\n",
       "    .dataframe tbody tr th {\n",
       "        vertical-align: top;\n",
       "    }\n",
       "\n",
       "    .dataframe thead th {\n",
       "        text-align: right;\n",
       "    }\n",
       "</style>\n",
       "<table border=\"1\" class=\"dataframe\">\n",
       "  <thead>\n",
       "    <tr style=\"text-align: right;\">\n",
       "      <th></th>\n",
       "      <th>title</th>\n",
       "      <th>overview</th>\n",
       "      <th>genres</th>\n",
       "      <th>popularity</th>\n",
       "    </tr>\n",
       "  </thead>\n",
       "  <tbody>\n",
       "    <tr>\n",
       "      <th>0</th>\n",
       "      <td>Avatar</td>\n",
       "      <td>In the 22nd century, a paraplegic Marine is di...</td>\n",
       "      <td>[{\"id\": 28, \"name\": \"Action\"}, {\"id\": 12, \"nam...</td>\n",
       "      <td>150.437577</td>\n",
       "    </tr>\n",
       "    <tr>\n",
       "      <th>1</th>\n",
       "      <td>Pirates of the Caribbean: At World's End</td>\n",
       "      <td>Captain Barbossa, long believed to be dead, ha...</td>\n",
       "      <td>[{\"id\": 12, \"name\": \"Adventure\"}, {\"id\": 14, \"...</td>\n",
       "      <td>139.082615</td>\n",
       "    </tr>\n",
       "    <tr>\n",
       "      <th>2</th>\n",
       "      <td>Spectre</td>\n",
       "      <td>A cryptic message from Bond’s past sends him o...</td>\n",
       "      <td>[{\"id\": 28, \"name\": \"Action\"}, {\"id\": 12, \"nam...</td>\n",
       "      <td>107.376788</td>\n",
       "    </tr>\n",
       "    <tr>\n",
       "      <th>3</th>\n",
       "      <td>The Dark Knight Rises</td>\n",
       "      <td>Following the death of District Attorney Harve...</td>\n",
       "      <td>[{\"id\": 28, \"name\": \"Action\"}, {\"id\": 80, \"nam...</td>\n",
       "      <td>112.312950</td>\n",
       "    </tr>\n",
       "    <tr>\n",
       "      <th>4</th>\n",
       "      <td>John Carter</td>\n",
       "      <td>John Carter is a war-weary, former military ca...</td>\n",
       "      <td>[{\"id\": 28, \"name\": \"Action\"}, {\"id\": 12, \"nam...</td>\n",
       "      <td>43.926995</td>\n",
       "    </tr>\n",
       "  </tbody>\n",
       "</table>\n",
       "</div>"
      ]
     },
     "execution_count": 42,
     "metadata": {},
     "output_type": "execute_result"
    }
   ],
   "execution_count": 42
  },
  {
   "metadata": {},
   "cell_type": "markdown",
   "source": "## 2. Cleaning up the data",
   "id": "541c43a8b66ce72"
  },
  {
   "metadata": {
    "ExecuteTime": {
     "end_time": "2025-04-05T18:55:10.675162Z",
     "start_time": "2025-04-05T18:55:10.669858Z"
    }
   },
   "cell_type": "code",
   "source": [
    "# Drop missing overviews\n",
    "df = df.dropna(subset=['overview'])\n",
    "\n",
    "# Reset index\n",
    "df = df.reset_index(drop=True)"
   ],
   "id": "7a44b54f3efec28",
   "outputs": [],
   "execution_count": 43
  },
  {
   "metadata": {},
   "cell_type": "markdown",
   "source": "## 3. Parse the genres Column",
   "id": "378d26dc394572f3"
  },
  {
   "metadata": {
    "ExecuteTime": {
     "end_time": "2025-04-05T18:55:10.845339Z",
     "start_time": "2025-04-05T18:55:10.707339Z"
    }
   },
   "cell_type": "code",
   "source": [
    "# Safely convert stringified lists of dicts to real lists of dicts\n",
    "def parse_genres(genre_str):\n",
    "    try:\n",
    "        genres = ast.literal_eval(genre_str)\n",
    "        return [genre['name'] for genre in genres]\n",
    "    except (ValueError, SyntaxError):\n",
    "        return []\n",
    "\n",
    "# Apply parsing to the column\n",
    "df['genre_list'] = df['genres'].apply(parse_genres)\n",
    "\n",
    "# Take a look\n",
    "df[['title', 'genre_list']].head()\n"
   ],
   "id": "28cf6b8dba60ea61",
   "outputs": [
    {
     "data": {
      "text/plain": [
       "                                      title  \\\n",
       "0                                    Avatar   \n",
       "1  Pirates of the Caribbean: At World's End   \n",
       "2                                   Spectre   \n",
       "3                     The Dark Knight Rises   \n",
       "4                               John Carter   \n",
       "\n",
       "                                      genre_list  \n",
       "0  [Action, Adventure, Fantasy, Science Fiction]  \n",
       "1                   [Adventure, Fantasy, Action]  \n",
       "2                     [Action, Adventure, Crime]  \n",
       "3               [Action, Crime, Drama, Thriller]  \n",
       "4           [Action, Adventure, Science Fiction]  "
      ],
      "text/html": [
       "<div>\n",
       "<style scoped>\n",
       "    .dataframe tbody tr th:only-of-type {\n",
       "        vertical-align: middle;\n",
       "    }\n",
       "\n",
       "    .dataframe tbody tr th {\n",
       "        vertical-align: top;\n",
       "    }\n",
       "\n",
       "    .dataframe thead th {\n",
       "        text-align: right;\n",
       "    }\n",
       "</style>\n",
       "<table border=\"1\" class=\"dataframe\">\n",
       "  <thead>\n",
       "    <tr style=\"text-align: right;\">\n",
       "      <th></th>\n",
       "      <th>title</th>\n",
       "      <th>genre_list</th>\n",
       "    </tr>\n",
       "  </thead>\n",
       "  <tbody>\n",
       "    <tr>\n",
       "      <th>0</th>\n",
       "      <td>Avatar</td>\n",
       "      <td>[Action, Adventure, Fantasy, Science Fiction]</td>\n",
       "    </tr>\n",
       "    <tr>\n",
       "      <th>1</th>\n",
       "      <td>Pirates of the Caribbean: At World's End</td>\n",
       "      <td>[Adventure, Fantasy, Action]</td>\n",
       "    </tr>\n",
       "    <tr>\n",
       "      <th>2</th>\n",
       "      <td>Spectre</td>\n",
       "      <td>[Action, Adventure, Crime]</td>\n",
       "    </tr>\n",
       "    <tr>\n",
       "      <th>3</th>\n",
       "      <td>The Dark Knight Rises</td>\n",
       "      <td>[Action, Crime, Drama, Thriller]</td>\n",
       "    </tr>\n",
       "    <tr>\n",
       "      <th>4</th>\n",
       "      <td>John Carter</td>\n",
       "      <td>[Action, Adventure, Science Fiction]</td>\n",
       "    </tr>\n",
       "  </tbody>\n",
       "</table>\n",
       "</div>"
      ]
     },
     "execution_count": 44,
     "metadata": {},
     "output_type": "execute_result"
    }
   ],
   "execution_count": 44
  },
  {
   "metadata": {},
   "cell_type": "markdown",
   "source": "## 4. View All Unique Genres",
   "id": "9dec716f73e6b33"
  },
  {
   "metadata": {
    "ExecuteTime": {
     "end_time": "2025-04-05T18:55:10.873668Z",
     "start_time": "2025-04-05T18:55:10.869339Z"
    }
   },
   "cell_type": "code",
   "source": [
    "# Flatten list of genres across all movies\n",
    "from itertools import chain\n",
    "\n",
    "all_genres = set(chain.from_iterable(df['genre_list']))\n",
    "print(sorted(all_genres))\n"
   ],
   "id": "233896669e2d46cc",
   "outputs": [
    {
     "name": "stdout",
     "output_type": "stream",
     "text": [
      "['Action', 'Adventure', 'Animation', 'Comedy', 'Crime', 'Documentary', 'Drama', 'Family', 'Fantasy', 'Foreign', 'History', 'Horror', 'Music', 'Mystery', 'Romance', 'Science Fiction', 'TV Movie', 'Thriller', 'War', 'Western']\n"
     ]
    }
   ],
   "execution_count": 45
  },
  {
   "metadata": {},
   "cell_type": "markdown",
   "source": [
    "## 5. Create a Genre Filter Function\n",
    "\n",
    "Simple function that returns movies that match a genre based on the ratings of the movies"
   ],
   "id": "40f97d8c4df9d227"
  },
  {
   "metadata": {
    "ExecuteTime": {
     "end_time": "2025-04-05T18:55:10.910906Z",
     "start_time": "2025-04-05T18:55:10.907511Z"
    }
   },
   "cell_type": "code",
   "source": [
    "def get_top_movies_by_genre(genre, limit=10):\n",
    "    matches = df[df['genre_list'].apply(lambda x: genre in x)]\n",
    "    matches = matches.sort_values(by='vote_average', ascending=False)\n",
    "    return matches[['title', 'overview', 'vote_average']].head(limit)"
   ],
   "id": "dfad09a109911f76",
   "outputs": [],
   "execution_count": 46
  },
  {
   "metadata": {},
   "cell_type": "markdown",
   "source": "## 6. Testing",
   "id": "4da378ac759d806b"
  },
  {
   "metadata": {
    "ExecuteTime": {
     "end_time": "2025-04-05T18:55:10.956624Z",
     "start_time": "2025-04-05T18:55:10.946487Z"
    }
   },
   "cell_type": "code",
   "source": "get_top_movies_by_genre(\"Comedy\")",
   "id": "9e6e642fc478748",
   "outputs": [
    {
     "data": {
      "text/plain": [
       "                                                  title  \\\n",
       "4044                              Dancer, Texas Pop. 81   \n",
       "3518                                   Stiff Upper Lips   \n",
       "4659                                     Little Big Top   \n",
       "4245                              Me You and Five Bucks   \n",
       "2969                                 There Goes My Baby   \n",
       "809                                        Forrest Gump   \n",
       "3905                                      The Apartment   \n",
       "3040                                         Love Jones   \n",
       "4236                                       Modern Times   \n",
       "4171  Dr. Strangelove or: How I Learned to Stop Worr...   \n",
       "\n",
       "                                               overview  vote_average  \n",
       "4044  Four guys, best friends, have grown up togethe...          10.0  \n",
       "3518  Stiff Upper Lips is a broad parody of British ...          10.0  \n",
       "4659  An aging out of work clown returns to his smal...          10.0  \n",
       "4245  A womanizing yet lovable loser, Charlie, a wai...          10.0  \n",
       "2969  A group of high school seniors meets in the su...           8.5  \n",
       "809   A man with a low IQ has accomplished great thi...           8.2  \n",
       "3905  Bud Baxter is a minor clerk in a huge New York...           8.1  \n",
       "3040  Darius Lovehall is a young black poet in Chica...           8.1  \n",
       "4236  The Tramp struggles to live in modern industri...           8.1  \n",
       "4171  Insane General Jack D. Ripper initiates a nucl...           8.0  "
      ],
      "text/html": [
       "<div>\n",
       "<style scoped>\n",
       "    .dataframe tbody tr th:only-of-type {\n",
       "        vertical-align: middle;\n",
       "    }\n",
       "\n",
       "    .dataframe tbody tr th {\n",
       "        vertical-align: top;\n",
       "    }\n",
       "\n",
       "    .dataframe thead th {\n",
       "        text-align: right;\n",
       "    }\n",
       "</style>\n",
       "<table border=\"1\" class=\"dataframe\">\n",
       "  <thead>\n",
       "    <tr style=\"text-align: right;\">\n",
       "      <th></th>\n",
       "      <th>title</th>\n",
       "      <th>overview</th>\n",
       "      <th>vote_average</th>\n",
       "    </tr>\n",
       "  </thead>\n",
       "  <tbody>\n",
       "    <tr>\n",
       "      <th>4044</th>\n",
       "      <td>Dancer, Texas Pop. 81</td>\n",
       "      <td>Four guys, best friends, have grown up togethe...</td>\n",
       "      <td>10.0</td>\n",
       "    </tr>\n",
       "    <tr>\n",
       "      <th>3518</th>\n",
       "      <td>Stiff Upper Lips</td>\n",
       "      <td>Stiff Upper Lips is a broad parody of British ...</td>\n",
       "      <td>10.0</td>\n",
       "    </tr>\n",
       "    <tr>\n",
       "      <th>4659</th>\n",
       "      <td>Little Big Top</td>\n",
       "      <td>An aging out of work clown returns to his smal...</td>\n",
       "      <td>10.0</td>\n",
       "    </tr>\n",
       "    <tr>\n",
       "      <th>4245</th>\n",
       "      <td>Me You and Five Bucks</td>\n",
       "      <td>A womanizing yet lovable loser, Charlie, a wai...</td>\n",
       "      <td>10.0</td>\n",
       "    </tr>\n",
       "    <tr>\n",
       "      <th>2969</th>\n",
       "      <td>There Goes My Baby</td>\n",
       "      <td>A group of high school seniors meets in the su...</td>\n",
       "      <td>8.5</td>\n",
       "    </tr>\n",
       "    <tr>\n",
       "      <th>809</th>\n",
       "      <td>Forrest Gump</td>\n",
       "      <td>A man with a low IQ has accomplished great thi...</td>\n",
       "      <td>8.2</td>\n",
       "    </tr>\n",
       "    <tr>\n",
       "      <th>3905</th>\n",
       "      <td>The Apartment</td>\n",
       "      <td>Bud Baxter is a minor clerk in a huge New York...</td>\n",
       "      <td>8.1</td>\n",
       "    </tr>\n",
       "    <tr>\n",
       "      <th>3040</th>\n",
       "      <td>Love Jones</td>\n",
       "      <td>Darius Lovehall is a young black poet in Chica...</td>\n",
       "      <td>8.1</td>\n",
       "    </tr>\n",
       "    <tr>\n",
       "      <th>4236</th>\n",
       "      <td>Modern Times</td>\n",
       "      <td>The Tramp struggles to live in modern industri...</td>\n",
       "      <td>8.1</td>\n",
       "    </tr>\n",
       "    <tr>\n",
       "      <th>4171</th>\n",
       "      <td>Dr. Strangelove or: How I Learned to Stop Worr...</td>\n",
       "      <td>Insane General Jack D. Ripper initiates a nucl...</td>\n",
       "      <td>8.0</td>\n",
       "    </tr>\n",
       "  </tbody>\n",
       "</table>\n",
       "</div>"
      ]
     },
     "execution_count": 47,
     "metadata": {},
     "output_type": "execute_result"
    }
   ],
   "execution_count": 47
  },
  {
   "metadata": {},
   "cell_type": "markdown",
   "source": [
    "## Incorporating a More Like This Feature\n",
    "\n",
    "## 1. TF-IDF Vectorization\n",
    "Using tfidfVectorizer to convert text into feature vectors."
   ],
   "id": "ae429f82f010f178"
  },
  {
   "metadata": {
    "ExecuteTime": {
     "end_time": "2025-04-05T18:55:11.333556Z",
     "start_time": "2025-04-05T18:55:11.073560Z"
    }
   },
   "cell_type": "code",
   "source": [
    "# Replace NaNs with empty strings\n",
    "df['overview'] = df['overview'].fillna('')\n",
    "\n",
    "# TF-IDF Vectorizer\n",
    "tfidf = TfidfVectorizer(stop_words='english')\n",
    "tfidf_matrix = tfidf.fit_transform(df['overview'])\n",
    "\n",
    "# Cosine similarity matrix\n",
    "cosine_sim = linear_kernel(tfidf_matrix, tfidf_matrix)"
   ],
   "id": "981a77814531f069",
   "outputs": [],
   "execution_count": 48
  },
  {
   "metadata": {},
   "cell_type": "markdown",
   "source": [
    "## 2. Map Movie Titles to Index\n",
    "Using mapping so we can look up the row index of a movie by its title:"
   ],
   "id": "329b3fe1e051f3a5"
  },
  {
   "metadata": {
    "ExecuteTime": {
     "end_time": "2025-04-05T18:55:11.364239Z",
     "start_time": "2025-04-05T18:55:11.360240Z"
    }
   },
   "cell_type": "code",
   "source": [
    "# Map titles to their index\n",
    "indices = pd.Series(df.index, index=df['title']).drop_duplicates()"
   ],
   "id": "53c6357ce63d9ef2",
   "outputs": [],
   "execution_count": 49
  },
  {
   "metadata": {},
   "cell_type": "markdown",
   "source": [
    "## 3. Defining the Function\n",
    "\n",
    "This function will:\n",
    "- Look up a movie by title\n",
    "- Use cosine similarity to find similar movies\n",
    "- Return the top N recommendations"
   ],
   "id": "3a3c25d68a905980"
  },
  {
   "metadata": {
    "ExecuteTime": {
     "end_time": "2025-04-05T18:55:11.392641Z",
     "start_time": "2025-04-05T18:55:11.389241Z"
    }
   },
   "cell_type": "code",
   "source": [
    "def get_more_like_this(title, top_n=10):\n",
    "    # Get index of the movie\n",
    "    idx = indices.get(title)\n",
    "\n",
    "    if idx is None:\n",
    "        return f\"Movie titled '{title}' not found in the dataset.\"\n",
    "\n",
    "    # Get similarity scores for this movie\n",
    "    sim_scores = list(enumerate(cosine_sim[idx]))\n",
    "\n",
    "    # Sort by similarity score (highest first), skip the movie itself\n",
    "    sim_scores = sorted(sim_scores, key=lambda x: x[1], reverse=True)[1:top_n+1]\n",
    "\n",
    "    # Get the indices of the top matches\n",
    "    movie_indices = [i[0] for i in sim_scores]\n",
    "\n",
    "    return df[['title', 'overview']].iloc[movie_indices]\n"
   ],
   "id": "a7e6687db299c3bc",
   "outputs": [],
   "execution_count": 50
  },
  {
   "metadata": {},
   "cell_type": "markdown",
   "source": "## 4. Testing Function",
   "id": "6f40fd8b54e11a89"
  },
  {
   "metadata": {
    "ExecuteTime": {
     "end_time": "2025-04-05T18:55:11.422809Z",
     "start_time": "2025-04-05T18:55:11.413560Z"
    }
   },
   "cell_type": "code",
   "source": "get_more_like_this(\"Shin Godzilla\")",
   "id": "1e7b5d07f4302b4d",
   "outputs": [
    {
     "data": {
      "text/plain": [
       "                    title                                           overview\n",
       "3579     Doug's 1st Movie  Doug and his pal Skeeter set's out to find the...\n",
       "294                  Epic  A teenager finds herself transported to a deep...\n",
       "1287   A Monster in Paris  Paris,1910. Emile, a shy movie projectionist, ...\n",
       "3034     Reno 911!: Miami  A rag-tag team of Reno cops are called in to s...\n",
       "3825     Chain of Command  After finding his brother murdered after retur...\n",
       "165                  Hulk  Bruce Banner, a genetics researcher with a tra...\n",
       "1451                 Zoom  Jack Shepard is an out-of-shape auto shop owne...\n",
       "3304  The Blood of Heroes  Set in a futuristic world where the only sport...\n",
       "2294        Spirited Away  A ten year old girl who wanders away from her ...\n",
       "4238     My Name Is Bruce  B Movie Legend Bruce Campbell is mistaken for ..."
      ],
      "text/html": [
       "<div>\n",
       "<style scoped>\n",
       "    .dataframe tbody tr th:only-of-type {\n",
       "        vertical-align: middle;\n",
       "    }\n",
       "\n",
       "    .dataframe tbody tr th {\n",
       "        vertical-align: top;\n",
       "    }\n",
       "\n",
       "    .dataframe thead th {\n",
       "        text-align: right;\n",
       "    }\n",
       "</style>\n",
       "<table border=\"1\" class=\"dataframe\">\n",
       "  <thead>\n",
       "    <tr style=\"text-align: right;\">\n",
       "      <th></th>\n",
       "      <th>title</th>\n",
       "      <th>overview</th>\n",
       "    </tr>\n",
       "  </thead>\n",
       "  <tbody>\n",
       "    <tr>\n",
       "      <th>3579</th>\n",
       "      <td>Doug's 1st Movie</td>\n",
       "      <td>Doug and his pal Skeeter set's out to find the...</td>\n",
       "    </tr>\n",
       "    <tr>\n",
       "      <th>294</th>\n",
       "      <td>Epic</td>\n",
       "      <td>A teenager finds herself transported to a deep...</td>\n",
       "    </tr>\n",
       "    <tr>\n",
       "      <th>1287</th>\n",
       "      <td>A Monster in Paris</td>\n",
       "      <td>Paris,1910. Emile, a shy movie projectionist, ...</td>\n",
       "    </tr>\n",
       "    <tr>\n",
       "      <th>3034</th>\n",
       "      <td>Reno 911!: Miami</td>\n",
       "      <td>A rag-tag team of Reno cops are called in to s...</td>\n",
       "    </tr>\n",
       "    <tr>\n",
       "      <th>3825</th>\n",
       "      <td>Chain of Command</td>\n",
       "      <td>After finding his brother murdered after retur...</td>\n",
       "    </tr>\n",
       "    <tr>\n",
       "      <th>165</th>\n",
       "      <td>Hulk</td>\n",
       "      <td>Bruce Banner, a genetics researcher with a tra...</td>\n",
       "    </tr>\n",
       "    <tr>\n",
       "      <th>1451</th>\n",
       "      <td>Zoom</td>\n",
       "      <td>Jack Shepard is an out-of-shape auto shop owne...</td>\n",
       "    </tr>\n",
       "    <tr>\n",
       "      <th>3304</th>\n",
       "      <td>The Blood of Heroes</td>\n",
       "      <td>Set in a futuristic world where the only sport...</td>\n",
       "    </tr>\n",
       "    <tr>\n",
       "      <th>2294</th>\n",
       "      <td>Spirited Away</td>\n",
       "      <td>A ten year old girl who wanders away from her ...</td>\n",
       "    </tr>\n",
       "    <tr>\n",
       "      <th>4238</th>\n",
       "      <td>My Name Is Bruce</td>\n",
       "      <td>B Movie Legend Bruce Campbell is mistaken for ...</td>\n",
       "    </tr>\n",
       "  </tbody>\n",
       "</table>\n",
       "</div>"
      ]
     },
     "execution_count": 51,
     "metadata": {},
     "output_type": "execute_result"
    }
   ],
   "execution_count": 51
  }
 ],
 "metadata": {
  "kernelspec": {
   "display_name": "Python 3",
   "language": "python",
   "name": "python3"
  },
  "language_info": {
   "codemirror_mode": {
    "name": "ipython",
    "version": 2
   },
   "file_extension": ".py",
   "mimetype": "text/x-python",
   "name": "python",
   "nbconvert_exporter": "python",
   "pygments_lexer": "ipython2",
   "version": "2.7.6"
  }
 },
 "nbformat": 4,
 "nbformat_minor": 5
}
